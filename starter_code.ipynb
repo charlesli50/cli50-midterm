{
 "cells": [
  {
   "cell_type": "markdown",
   "metadata": {},
   "source": [
    "# Libraries"
   ]
  },
  {
   "cell_type": "code",
   "execution_count": 26,
   "metadata": {},
   "outputs": [],
   "source": [
    "                        import pickle\n",
    "import pandas as pd\n",
    "import seaborn as sns\n",
    "from os.path import exists\n",
    "import matplotlib.pyplot as plt\n",
    "from sklearn.neighbors import KNeighborsClassifier\n",
    "from sklearn.model_selection import train_test_split\n",
    "from sklearn.metrics import accuracy_score, confusion_matrix"
   ]
  },
  {
   "cell_type": "code",
   "execution_count": 27,
   "metadata": {},
   "outputs": [],
   "source": [
    "import numpy as np\n",
    "\n",
    "import nltk\n",
    "from nltk.corpus import stopwords\n",
    "from sklearn.feature_extraction.text import TfidfVectorizer\n",
    "from sklearn.metrics.pairwise import cosine_similarity\n",
    "from sklearn.decomposition import PCA\n",
    "# from sklearn.preprocessing import StandardScaler\n",
    "from sklearn.preprocessing import MinMaxScaler\n",
    "\n",
    "from sklearn.linear_model import LogisticRegression\n",
    "from sklearn.tree import DecisionTreeClassifier\n",
    "# from datetime import datetime\n",
    "\n",
    "from textblob import TextBlob\n",
    "from sklearn import preprocessing\n",
    "\n",
    "from sklearn.linear_model import SGDClassifier\n",
    "from sklearn.ensemble import RandomForestClassifier"
   ]
  },
  {
   "cell_type": "markdown",
   "metadata": {},
   "source": [
    "# Loading the Files\n",
    "\n",
    "Download the csv files into the `data/` directory."
   ]
  },
  {
   "cell_type": "code",
   "execution_count": 28,
   "metadata": {},
   "outputs": [
    {
     "name": "stdout",
     "output_type": "stream",
     "text": [
      "train.csv shape is  (1697533, 9)\n",
      "test.csv shape is  (212192, 2)\n",
      "\n",
      "        Id   ProductId          UserId  HelpfulnessNumerator  \\\n",
      "0   914403  B0009W5KHM   AV6QDP8Q0ONK4                     2   \n",
      "1   354887  6303079709  A2I8RXJN80A2D2                     0   \n",
      "2  1407653  B004H0M2XC  A3FHV3RV8Z12E6                     0   \n",
      "3  1377458  B003ZJ9536  A12VLTA3ZHVPUY                     1   \n",
      "4   475323  630574453X  A13NM1PES9OXVN                     2   \n",
      "\n",
      "   HelpfulnessDenominator        Time  \\\n",
      "0                       2  1341014400   \n",
      "1                       0  1168819200   \n",
      "2                       0  1386201600   \n",
      "3                       1  1348704000   \n",
      "4                       3   970012800   \n",
      "\n",
      "                                         Summary  \\\n",
      "0                                  GOOD FUN FILM   \n",
      "1                                   Movie Review   \n",
      "2             When is it a good time to Consent?   \n",
      "3                                          TRUTH   \n",
      "4  Intelligent and bittersweet -- stays with you   \n",
      "\n",
      "                                                Text  Score  \n",
      "0  While most straight to DVD films are not worth...    5.0  \n",
      "1  I have wanted this one for sometime, also.  I ...    5.0  \n",
      "2  Actually this was a pretty darn good indie fil...    4.0  \n",
      "3  Episodes 37 to 72 of the series press on in a ...    5.0  \n",
      "4  I was really impressed with this movie, but wa...    3.0  \n",
      "\n",
      "        Id  Score\n",
      "0  1323432    NaN\n",
      "1  1137299    NaN\n",
      "2  1459366    NaN\n",
      "3   931601    NaN\n",
      "4  1311995    NaN\n",
      "\n",
      "                 Id  HelpfulnessNumerator  HelpfulnessDenominator  \\\n",
      "count  1.697533e+06          1.697533e+06            1.697533e+06   \n",
      "mean   8.487660e+05          3.569048e+00            5.301422e+00   \n",
      "std    4.900357e+05          1.727883e+01            2.024445e+01   \n",
      "min    0.000000e+00          0.000000e+00            0.000000e+00   \n",
      "25%    4.243830e+05          0.000000e+00            0.000000e+00   \n",
      "50%    8.487660e+05          1.000000e+00            1.000000e+00   \n",
      "75%    1.273149e+06          3.000000e+00            5.000000e+00   \n",
      "max    1.697532e+06          6.084000e+03            6.510000e+03   \n",
      "\n",
      "               Time         Score  \n",
      "count  1.697533e+06  1.485341e+06  \n",
      "mean   1.262422e+09  4.110517e+00  \n",
      "std    1.289277e+08  1.197651e+00  \n",
      "min    8.793792e+08  1.000000e+00  \n",
      "25%    1.164413e+09  4.000000e+00  \n",
      "50%    1.307491e+09  5.000000e+00  \n",
      "75%    1.373242e+09  5.000000e+00  \n",
      "max    1.406074e+09  5.000000e+00  \n"
     ]
    },
    {
     "data": {
      "image/png": "[encoded data removed]",
      "text/plain": [
       "<Figure size 432x288 with 1 Axes>"
      ]
     },
     "metadata": {
      "needs_background": "light"
     },
     "output_type": "display_data"
    },
    {
     "name": "stdout",
     "output_type": "stream",
     "text": [
      "\n",
      "EVERYTHING IS PROPERLY SET UP! YOU ARE READY TO START\n"
     ]
    }
   ],
   "source": [
    "trainingSet = pd.read_csv(\"./data/train.csv\")\n",
    "testingSet = pd.read_csv(\"./data/test.csv\")\n",
    "\n",
    "print(\"train.csv shape is \", trainingSet.shape)\n",
    "print(\"test.csv shape is \", testingSet.shape)\n",
    "\n",
    "print()\n",
    "\n",
    "print(trainingSet.head())\n",
    "print()\n",
    "print(testingSet.head())\n",
    "\n",
    "print()\n",
    "\n",
    "print(trainingSet.describe())\n",
    "\n",
    "trainingSet['Score'].value_counts().plot(kind='bar', legend=True, alpha=.5)\n",
    "plt.show()\n",
    "\n",
    "print()\n",
    "print(\"EVERYTHING IS PROPERLY SET UP! YOU ARE READY TO START\")"
   ]
  },
  {
   "cell_type": "code",
   "execution_count": 29,
   "metadata": {},
   "outputs": [],
   "source": [
    "# experiment section, playing with data to see which features to add and how to do them\n",
    "\n",
    "# idea is to make a user review bias indicator: \n",
    "    #for each reviewer who reviews more than once, from a scale from 1-5\n",
    "    #calculate the average and standard deviation of their reviews\n",
    "    #if the reviewer only has one review, call their average and standard deviation 0'\n",
    "    \n",
    "    #drop biased reviewers => if they have an average rating of <1.1 or 4.9>, they should have bias = 1, else, 0\n",
    "    \n",
    "    #ok if not making attributes based on score column, \n",
    "    #helpfulness linked to each user, mass reviewers should have a higher helpfulness overall\n",
    "        #other reviewer patterns\n",
    "        #are reviews correlated with time?\n",
    "        \n",
    "    \n",
    "    #review length\n",
    "    #review tf_idf => lsa, as learned in class\n",
    "    \n",
    "#     Idea: if tf_idf is too inefficient, take a row with only the first 10-15-20 words of each review, and \n",
    "#.          simply do it off of that. ppl start off each review with a \"ok, great, Fun, love;\"\n",
    "#           also, ending last 10-15-20 words?\n",
    "    \n",
    "    \n",
    "    \n",
    "# sentiment analysis\n",
    "\n",
    "# need to try every type of classifier model to see which accuracy is best\n",
    "\n",
    "\n",
    "\n",
    "\n",
    "\n",
    "\n",
    "    \n",
    "# print(reviewer_df)"
   ]
  },
  {
   "cell_type": "markdown",
   "metadata": {},
   "source": [
    "# Adding Features"
   ]
  },
  {
   "cell_type": "code",
   "execution_count": 30,
   "metadata": {},
   "outputs": [],
   "source": [
    "def add_num_reviews(df):\n",
    "    user_counts = df['UserId'].value_counts().reset_index()\n",
    "    user_counts.columns = ['UserId', 'num_reviews']\n",
    "\n",
    "    df = pd.merge(df, user_counts, on='UserId', how='left')\n",
    "    return df"
   ]
  },
  {
   "cell_type": "code",
   "execution_count": 31,
   "metadata": {},
   "outputs": [],
   "source": [
    "def add_review_length(df):\n",
    "    df['review_length'] = df.apply(lambda x: len(x))\n",
    "    df['review_length'] = df['review_length'].fillna(0)\n",
    "    return df"
   ]
  },
  {
   "cell_type": "code",
   "execution_count": 32,
   "metadata": {},
   "outputs": [
    {
     "name": "stdout",
     "output_type": "stream",
     "text": [
      "CPU times: user 109 ms, sys: 116 ms, total: 224 ms\n",
      "Wall time: 522 ms\n"
     ]
    },
    {
     "name": "stderr",
     "output_type": "stream",
     "text": [
      "[nltk_data] Downloading package stopwords to\n",
      "[nltk_data]     /Users/charlesli/nltk_data...\n",
      "[nltk_data]   Package stopwords is already up-to-date!\n"
     ]
    }
   ],
   "source": [
    "%%time\n",
    "\n",
    "nltk.download('stopwords')\n",
    "stop_words = stopwords.words('english')\n",
    "\n",
    "def add_tf_idf(df, words = 15):\n",
    "#     df[\"Summary\"] = df[\"Summary\"].fillna('').astype(str)\n",
    "    \n",
    "#     test drop instead of fill\n",
    "    \n",
    "#     df['trimmed_text'] = df['Summary'].apply(lambda x: \" \".join(x.split()[:words]))\n",
    "    \n",
    "    v = TfidfVectorizer(max_features=500, stop_words = stop_words, ngram_range=(1, 2))\n",
    "    tfidf_matrix = v.fit_transform(df['Summary'].fillna(\"\"))\n",
    "    \n",
    "#     scaler = MinMaxScaler(feature_range = (0, 1))\n",
    "#     tfidf_matrix_scaled = scaler.fit_transform(tfidf_matrix.toarray())\n",
    "    \n",
    "#     pca = PCA(n_components=50)\n",
    "#     tfidf_reduced = pca.fit_transform(tfidf_matrix_scaled)\n",
    "\n",
    "#     tfidf_pca_df = pd.DataFrame(tfidf_reduced, columns=[f'pca_tfidf_{i}' for i in range(50)])\n",
    "    \n",
    "    tfidf_df = pd.DataFrame(tfidf_matrix.toarray(), columns=v.get_feature_names_out())\n",
    "    tfidf_df.fillna(0, inplace=True)\n",
    "    df = pd.concat([df, tfidf_df], axis=1)\n",
    "    \n",
    "    return df\n",
    "    \n",
    "    \n",
    "    \n",
    "    "
   ]
  },
  {
   "cell_type": "code",
   "execution_count": 33,
   "metadata": {},
   "outputs": [],
   "source": [
    "def chunk(df, size = 1/50.0):\n",
    "    return df.sample(frac = size, random_state = 0)"
   ]
  },
  {
   "cell_type": "code",
   "execution_count": 34,
   "metadata": {},
   "outputs": [],
   "source": [
    "def add_dates(df):\n",
    "    df['date_time'] = pd.to_datetime(df['Time'], unit= 's')\n",
    "    df['date_year'] = df['date_time'].dt.year\n",
    "    df['day_of_week'] = df['date_time'].dt.weekday\n",
    "    \n",
    "    return df"
   ]
  },
  {
   "cell_type": "code",
   "execution_count": 35,
   "metadata": {},
   "outputs": [],
   "source": [
    "def add_textblob_sentiment(df):\n",
    "#     here we go !\n",
    "    df[\"Text\"] = df[\"Text\"].fillna('').astype(str)\n",
    "    \n",
    "    df[['polarity', 'sentiment']] = df['Text'].apply(lambda x: TextBlob(x).sentiment).apply(pd.Series)\n",
    "    \n",
    "    return df\n",
    "    "
   ]
  },
  {
   "cell_type": "code",
   "execution_count": 36,
   "metadata": {},
   "outputs": [],
   "source": [
    "def add_average_review_score(df):\n",
    "#     def sort_scores(score):\n",
    "#         if(score > 4.5):\n",
    "#             return 1\n",
    "#         elif(score <1.5):\n",
    "#             return -1\n",
    "#         else:\n",
    "#             return 0\n",
    "        \n",
    "#     df_no_na = df.dropna(subset=['Score'])\n",
    "\n",
    "#     df_no_na['user_average_review_score'] = df_no_na.groupby('UserId')['Score'].transform('mean')\n",
    "\n",
    "#     df_no_na['user_average_review_score'] = df_no_na['user_average_review_score'].apply(sort_scores)\n",
    "\n",
    "#     df = df.merge(df_no_na[['UserId', 'user_average_review_score']], on='UserId', how='left', suffixes=('', '_y'))\n",
    "\n",
    "# #     df['user_average_review_score'] = df['user_average_review_score_y']\n",
    "# #     df.drop(columns=['user_average_review_score_y'], inplace=True)\n",
    "\n",
    "    df['user_average_review_score'] = df.groupby('UserId')['Score'].transform('mean')\n",
    "    df['user_average_review_score'].fillna(5, inplace=True)\n",
    "    \n",
    "    return df\n",
    "    "
   ]
  },
  {
   "cell_type": "code",
   "execution_count": 37,
   "metadata": {},
   "outputs": [
    {
     "name": "stdout",
     "output_type": "stream",
     "text": [
      "Index(['Id', 'ProductId', 'UserId', 'HelpfulnessNumerator',\n",
      "       'HelpfulnessDenominator', 'Time', 'Summary', 'Text', 'Score',\n",
      "       'Helpfulness',\n",
      "       ...\n",
      "       'worthy', 'would', 'wow', 'wrong', 'year', 'years', 'yes', 'yet',\n",
      "       'young', 'zombie'],\n",
      "      dtype='object', length=518)\n",
      "(1697533, 518)\n"
     ]
    },
    {
     "name": "stderr",
     "output_type": "stream",
     "text": [
      "/Users/charlesli/opt/anaconda3/lib/python3.8/site-packages/pandas/core/internals/blocks.py:1951: RuntimeWarning: invalid value encountered in cast\n",
      "  values = values.astype(str)\n"
     ]
    },
    {
     "name": "stdout",
     "output_type": "stream",
     "text": [
      "CPU times: user 31min 45s, sys: 25min 54s, total: 57min 40s\n",
      "Wall time: 1h 7min 59s\n"
     ]
    }
   ],
   "source": [
    "%%time\n",
    "\n",
    "def add_features_to(df):\n",
    "    # This is where you can do all your feature extraction\n",
    "\n",
    "    df['Helpfulness'] = df['HelpfulnessNumerator'] / df['HelpfulnessDenominator']\n",
    "    df['Helpfulness'] = df['Helpfulness'].fillna(0)\n",
    "    \n",
    "#     filter good reviewers, bad reviewers\n",
    "#     reviewer patterns\n",
    "#     sentiment, how much you write, etc. \n",
    "#     reviewer id instead of sentiment analysis angle, veracity of the review\n",
    "\n",
    "#     df = chunk(df, size = 1/50.0)\n",
    "    df = add_num_reviews(df)\n",
    "    df = add_review_length(df)\n",
    "    \n",
    "    df = add_dates(df)\n",
    "    df = add_average_review_score(df)\n",
    "    df = add_textblob_sentiment(df)\n",
    "    df = add_tf_idf(df)\n",
    "    \n",
    "    \n",
    "    print(df.columns)\n",
    "    print(df.shape)\n",
    "\n",
    "\n",
    "    return df\n",
    "\n",
    "# Load the feature extracted files if they've already been generated\n",
    "if exists('./data/X_train.csv'):\n",
    "    X_train = pd.read_csv(\"./data/X_train.csv\")\n",
    "if exists('./data/X_submission.csv'):\n",
    "    X_submission = pd.read_csv(\"./data/X_submission.csv\")\n",
    "\n",
    "else:\n",
    "    # Process the DataFrame\n",
    "    train = add_features_to(trainingSet)\n",
    "    \n",
    "    # Merge on Id so that the submission set can have feature columns as well\n",
    "    X_submission = pd.merge(train, testingSet, left_on='Id', right_on='Id')\n",
    "    X_submission = X_submission.drop(columns=['Score_x'])\n",
    "    X_submission = X_submission.rename(columns={'Score_y': 'Score'})\n",
    "\n",
    "    # The training set is where the score is not null\n",
    "    X_train =  train[train['Score'].notnull()]\n",
    "\n",
    "    X_submission.to_csv(\"./data/X_submission.csv\", index=False)\n",
    "    X_train.to_csv(\"./data/X_train.csv\", index=False)\n"
   ]
  },
  {
   "cell_type": "code",
   "execution_count": 38,
   "metadata": {},
   "outputs": [
    {
     "name": "stdout",
     "output_type": "stream",
     "text": [
      "['10', '3d', '80', 'absolutely', 'acted', 'acting', 'action', 'action movie', 'actors', 'actually', 'adaptation', 'adventure', 'age', 'almost', 'always', 'amazing', 'amazon', 'america', 'american', 'animated', 'animation', 'anime', 'another', 'another great', 'around', 'art', 'average', 'away', 'awesome', 'awesome movie', 'awful', 'baby', 'back', 'bad', 'batman', 'beautiful', 'beginning', 'believe', 'best', 'best movie', 'best movies', 'better', 'better expected', 'beware', 'big', 'bit', 'black', 'blood', 'blu', 'blu ray', 'blue', 'bond', 'book', 'boring', 'bought', 'box', 'boy', 'brilliant', 'british', 'budget', 'buy', 'cast', 'character', 'characters', 'charming', 'children', 'christmas', 'cinema', 'classic', 'classics', 'collection', 'come', 'comedy', 'comes', 'comic', 'coming', 'complete', 'concert', 'cool', 'could', 'could better', 'crazy', 'creepy', 'crime', 'cult', 'cut', 'cute', 'dark', 'day', 'days', 'dead', 'deal', 'death', 'decent', 'definitely', 'delightful', 'die', 'different', 'director', 'disappointed', 'disappointing', 'disappointment', 'disc', 'disney', 'disturbing', 'documentary', 'done', 'drama', 'dvd', 'early', 'edition', 'effects', 'else', 'end', 'ending', 'enjoy', 'enjoyable', 'enjoyed', 'enough', 'entertaining', 'entertainment', 'epic', 'episode', 'episodes', 'even', 'ever', 'ever made', 'ever seen', 'every', 'everyone', 'everything', 'evil', 'excellent', 'excellent movie', 'exciting', 'expected', 'experience', 'extras', 'eye', 'fabulous', 'family', 'family movie', 'fan', 'fans', 'fantastic', 'fantasy', 'far', 'fascinating', 'fast', 'favorite', 'favorites', 'feel', 'fi', 'fiction', 'film', 'films', 'final', 'finally', 'find', 'fine', 'finest', 'first', 'five', 'five stars', 'flawed', 'flick', 'four', 'full', 'fun', 'fun movie', 'funniest', 'funny', 'funny movie', 'game', 'gem', 'genre', 'get', 'gets', 'getting', 'gift', 'girl', 'give', 'go', 'god', 'goes', 'going', 'gone', 'good', 'good film', 'good movie', 'good show', 'good story', 'got', 'great', 'great dvd', 'great family', 'great film', 'great fun', 'great movie', 'great series', 'great show', 'great story', 'greatest', 'guy', 'half', 'happy', 'hard', 'hate', 'hd', 'heart', 'hell', 'hero', 'high', 'highly', 'hilarious', 'historical', 'history', 'hit', 'hitchcock', 'holiday', 'hollywood', 'home', 'hope', 'horrible', 'horror', 'hot', 'house', 'human', 'humor', 'idea', 'incredible', 'intense', 'interesting', 'jack', 'james', 'john', 'keep', 'kid', 'kids', 'kind', 'king', 'know', 'last', 'laugh', 'laughs', 'less', 'let', 'life', 'light', 'like', 'liked', 'line', 'little', 'live', 'long', 'look', 'looking', 'looks', 'lost', 'lot', 'lots', 'love', 'love movie', 'love show', 'love story', 'loved', 'loves', 'low', 'made', 'magic', 'make', 'makes', 'man', 'many', 'masterpiece', 'may', 'maybe', 'mediocre', 'meets', 'memories', 'men', 'message', 'mind', 'miss', 'missing', 'modern', 'money', 'monster', 'movie', 'movie ever', 'movie great', 'movies', 'movies ever', 'moving', 'mr', 'much', 'much better', 'murder', 'music', 'musical', 'must', 'must see', 'mystery', 'need', 'needs', 'never', 'new', 'next', 'nice', 'night', 'noir', 'nothing', 'oh', 'ok', 'okay', 'old', 'one', 'one best', 'one favorite', 'original', 'outstanding', 'part', 'past', 'people', 'perfect', 'performance', 'performances', 'period', 'picture', 'piece', 'play', 'please', 'plot', 'point', 'poor', 'power', 'powerful', 'predictable', 'pretty', 'pretty good', 'price', 'production', 'pure', 'quality', 'quite', 'quot', 'ray', 'read', 'real', 'really', 'really good', 'red', 'release', 'remake', 'remember', 'return', 'review', 'reviews', 'ride', 'right', 'rock', 'rocks', 'romance', 'romantic', 'romantic comedy', 'sad', 'saw', 'say', 'scary', 'scenes', 'school', 'sci', 'sci fi', 'science', 'screen', 'script', 'season', 'seasons', 'second', 'see', 'seeing', 'seen', 'sequel', 'series', 'set', 'short', 'show', 'shows', 'side', 'silly', 'simply', 'slow', 'solid', 'something', 'sound', 'space', 'special', 'star', 'star trek', 'stars', 'start', 'still', 'stop', 'stories', 'story', 'strange', 'strong', 'stuff', 'stunning', 'stupid', 'style', 'super', 'superb', 'sure', 'surprise', 'surprisingly', 'suspense', 'sweet', 'take', 'tale', 'television', 'terrible', 'terrific', 'thank', 'thing', 'things', 'think', 'though', 'thought', 'three', 'thriller', 'time', 'timeless', 'times', 'title', 'tom', 'top', 'totally', 'touching', 'transfer', 'trek', 'trilogy', 'true', 'truly', 'truth', 'tv', 'tv series', 'twist', 'two', 'typical', 'ultimate', 'underrated', 'unique', 'us', 'vampire', 'version', 'video', 'view', 'viewing', 'vs', 'wait', 'want', 'wanted', 'war', 'waste', 'waste time', 'watch', 'watched', 'watching', 'way', 'wayne', 'weak', 'weird', 'well', 'well done', 'western', 'white', 'whole', 'wild', 'wish', 'without', 'woman', 'wonderful', 'wonderful movie', 'work', 'workout', 'world', 'worst', 'worth', 'worth watching', 'worthy', 'would', 'wow', 'wrong', 'year', 'years', 'yes', 'yet', 'young', 'zombie']\n"
     ]
    }
   ],
   "source": [
    "tf_idf_cols = train.columns.values.tolist()[18:]\n",
    "print(tf_idf_cols)\n",
    "# print(len(tf_idf_cols))\n",
    "\n",
    "# print(train['awesome'].sum())\n",
    "\n"
   ]
  },
  {
   "cell_type": "markdown",
   "metadata": {},
   "source": [
    "# Sample + Split into training and testing set"
   ]
  },
  {
   "cell_type": "code",
   "execution_count": 39,
   "metadata": {},
   "outputs": [],
   "source": [
    "# Split training set into training and testing set\n",
    "X_train, X_test, Y_train, Y_test = train_test_split(\n",
    "    X_train.drop(columns=['Score']),\n",
    "    X_train['Score'],\n",
    "    test_size=1/4.0,\n",
    "    random_state=0\n",
    ")"
   ]
  },
  {
   "cell_type": "code",
   "execution_count": 40,
   "metadata": {},
   "outputs": [],
   "source": [
    "# X_train, X_test, Y_train, Y_test = train_test_split(\n",
    "#     X_train.drop(columns=['Score']),\n",
    "#     X_train['Score'],\n",
    "#     test_size=1/10.0,\n",
    "#     random_state=0\n",
    "# )\n",
    "\n",
    "# print(type(X_train))"
   ]
  },
  {
   "cell_type": "markdown",
   "metadata": {},
   "source": [
    "# Feature Selection"
   ]
  },
  {
   "cell_type": "code",
   "execution_count": 41,
   "metadata": {},
   "outputs": [
    {
     "name": "stdout",
     "output_type": "stream",
     "text": [
      "['HelpfulnessNumerator', 'HelpfulnessDenominator', 'Helpfulness', 'num_reviews', 'review_length', 'date_year', 'day_of_week', 'polarity', 'sentiment', 'user_average_review_score', '10', '3d', '80', 'absolutely', 'acted', 'acting', 'action', 'action movie', 'actors', 'actually', 'adaptation', 'adventure', 'age', 'almost', 'always', 'amazing', 'amazon', 'america', 'american', 'animated', 'animation', 'anime', 'another', 'another great', 'around', 'art', 'average', 'away', 'awesome', 'awesome movie', 'awful', 'baby', 'back', 'bad', 'batman', 'beautiful', 'beginning', 'believe', 'best', 'best movie', 'best movies', 'better', 'better expected', 'beware', 'big', 'bit', 'black', 'blood', 'blu', 'blu ray', 'blue', 'bond', 'book', 'boring', 'bought', 'box', 'boy', 'brilliant', 'british', 'budget', 'buy', 'cast', 'character', 'characters', 'charming', 'children', 'christmas', 'cinema', 'classic', 'classics', 'collection', 'come', 'comedy', 'comes', 'comic', 'coming', 'complete', 'concert', 'cool', 'could', 'could better', 'crazy', 'creepy', 'crime', 'cult', 'cut', 'cute', 'dark', 'day', 'days', 'dead', 'deal', 'death', 'decent', 'definitely', 'delightful', 'die', 'different', 'director', 'disappointed', 'disappointing', 'disappointment', 'disc', 'disney', 'disturbing', 'documentary', 'done', 'drama', 'dvd', 'early', 'edition', 'effects', 'else', 'end', 'ending', 'enjoy', 'enjoyable', 'enjoyed', 'enough', 'entertaining', 'entertainment', 'epic', 'episode', 'episodes', 'even', 'ever', 'ever made', 'ever seen', 'every', 'everyone', 'everything', 'evil', 'excellent', 'excellent movie', 'exciting', 'expected', 'experience', 'extras', 'eye', 'fabulous', 'family', 'family movie', 'fan', 'fans', 'fantastic', 'fantasy', 'far', 'fascinating', 'fast', 'favorite', 'favorites', 'feel', 'fi', 'fiction', 'film', 'films', 'final', 'finally', 'find', 'fine', 'finest', 'first', 'five', 'five stars', 'flawed', 'flick', 'four', 'full', 'fun', 'fun movie', 'funniest', 'funny', 'funny movie', 'game', 'gem', 'genre', 'get', 'gets', 'getting', 'gift', 'girl', 'give', 'go', 'god', 'goes', 'going', 'gone', 'good', 'good film', 'good movie', 'good show', 'good story', 'got', 'great', 'great dvd', 'great family', 'great film', 'great fun', 'great movie', 'great series', 'great show', 'great story', 'greatest', 'guy', 'half', 'happy', 'hard', 'hate', 'hd', 'heart', 'hell', 'hero', 'high', 'highly', 'hilarious', 'historical', 'history', 'hit', 'hitchcock', 'holiday', 'hollywood', 'home', 'hope', 'horrible', 'horror', 'hot', 'house', 'human', 'humor', 'idea', 'incredible', 'intense', 'interesting', 'jack', 'james', 'john', 'keep', 'kid', 'kids', 'kind', 'king', 'know', 'last', 'laugh', 'laughs', 'less', 'let', 'life', 'light', 'like', 'liked', 'line', 'little', 'live', 'long', 'look', 'looking', 'looks', 'lost', 'lot', 'lots', 'love', 'love movie', 'love show', 'love story', 'loved', 'loves', 'low', 'made', 'magic', 'make', 'makes', 'man', 'many', 'masterpiece', 'may', 'maybe', 'mediocre', 'meets', 'memories', 'men', 'message', 'mind', 'miss', 'missing', 'modern', 'money', 'monster', 'movie', 'movie ever', 'movie great', 'movies', 'movies ever', 'moving', 'mr', 'much', 'much better', 'murder', 'music', 'musical', 'must', 'must see', 'mystery', 'need', 'needs', 'never', 'new', 'next', 'nice', 'night', 'noir', 'nothing', 'oh', 'ok', 'okay', 'old', 'one', 'one best', 'one favorite', 'original', 'outstanding', 'part', 'past', 'people', 'perfect', 'performance', 'performances', 'period', 'picture', 'piece', 'play', 'please', 'plot', 'point', 'poor', 'power', 'powerful', 'predictable', 'pretty', 'pretty good', 'price', 'production', 'pure', 'quality', 'quite', 'quot', 'ray', 'read', 'real', 'really', 'really good', 'red', 'release', 'remake', 'remember', 'return', 'review', 'reviews', 'ride', 'right', 'rock', 'rocks', 'romance', 'romantic', 'romantic comedy', 'sad', 'saw', 'say', 'scary', 'scenes', 'school', 'sci', 'sci fi', 'science', 'screen', 'script', 'season', 'seasons', 'second', 'see', 'seeing', 'seen', 'sequel', 'series', 'set', 'short', 'show', 'shows', 'side', 'silly', 'simply', 'slow', 'solid', 'something', 'sound', 'space', 'special', 'star', 'star trek', 'stars', 'start', 'still', 'stop', 'stories', 'story', 'strange', 'strong', 'stuff', 'stunning', 'stupid', 'style', 'super', 'superb', 'sure', 'surprise', 'surprisingly', 'suspense', 'sweet', 'take', 'tale', 'television', 'terrible', 'terrific', 'thank', 'thing', 'things', 'think', 'though', 'thought', 'three', 'thriller', 'time', 'timeless', 'times', 'title', 'tom', 'top', 'totally', 'touching', 'transfer', 'trek', 'trilogy', 'true', 'truly', 'truth', 'tv', 'tv series', 'twist', 'two', 'typical', 'ultimate', 'underrated', 'unique', 'us', 'vampire', 'version', 'video', 'view', 'viewing', 'vs', 'wait', 'want', 'wanted', 'war', 'waste', 'waste time', 'watch', 'watched', 'watching', 'way', 'wayne', 'weak', 'weird', 'well', 'well done', 'western', 'white', 'whole', 'wild', 'wish', 'without', 'woman', 'wonderful', 'wonderful movie', 'work', 'workout', 'world', 'worst', 'worth', 'worth watching', 'worthy', 'would', 'wow', 'wrong', 'year', 'years', 'yes', 'yet', 'young', 'zombie']\n",
      "         HelpfulnessNumerator  HelpfulnessDenominator  Helpfulness  \\\n",
      "131283                     13                      13     1.000000   \n",
      "1202017                     1                       1     1.000000   \n",
      "511808                      6                      10     0.600000   \n",
      "955172                      3                       4     0.750000   \n",
      "735507                      0                       0     0.000000   \n",
      "...                       ...                     ...          ...   \n",
      "152315                      0                       0     0.000000   \n",
      "963395                      0                       2     0.000000   \n",
      "117952                      1                       3     0.333333   \n",
      "1484405                    25                      28     0.892857   \n",
      "305711                      1                       1     1.000000   \n",
      "\n",
      "         num_reviews  review_length  date_year  day_of_week  polarity  \\\n",
      "131283            16            0.0       2005            2  0.098611   \n",
      "1202017            9            0.0       2012            1  0.193842   \n",
      "511808           187            0.0       2006            1 -0.091667   \n",
      "955172             7            0.0       2013            0  0.058081   \n",
      "735507             7            0.0       2012            3  0.422222   \n",
      "...              ...            ...        ...          ...       ...   \n",
      "152315            20            0.0       2001            3  0.196032   \n",
      "963395           806            0.0       2008            6  0.059583   \n",
      "117952            35            0.0       2007            0  0.133333   \n",
      "1484405          113            0.0       2007            0  0.198333   \n",
      "305711            30            0.0       2000            2  0.284628   \n",
      "\n",
      "         sentiment  user_average_review_score  ...  worthy  would  wow  wrong  \\\n",
      "131283    0.534209                   4.785714  ...     0.0    0.0  0.0    0.0   \n",
      "1202017   0.585465                   3.833333  ...     0.0    0.0  0.0    0.0   \n",
      "511808    0.588889                   3.641509  ...     0.0    0.0  0.0    0.0   \n",
      "955172    0.345455                   4.000000  ...     0.0    0.0  0.0    0.0   \n",
      "735507    0.511111                   5.000000  ...     0.0    0.0  0.0    0.0   \n",
      "...            ...                        ...  ...     ...    ...  ...    ...   \n",
      "152315    0.610317                   4.111111  ...     0.0    0.0  0.0    0.0   \n",
      "963395    0.563750                   3.359773  ...     0.0    0.0  0.0    0.0   \n",
      "117952    0.497917                   3.851852  ...     0.0    0.0  0.0    0.0   \n",
      "1484405   0.479630                   4.545455  ...     0.0    0.0  0.0    0.0   \n",
      "305711    0.485357                   4.185185  ...     0.0    0.0  0.0    0.0   \n",
      "\n",
      "         year  years  yes  yet  young  zombie  \n",
      "131283    0.0    0.0  0.0  0.0    0.0     0.0  \n",
      "1202017   0.0    0.0  0.0  0.0    0.0     0.0  \n",
      "511808    0.0    0.0  0.0  0.0    0.0     0.0  \n",
      "955172    0.0    0.0  0.0  0.0    0.0     0.0  \n",
      "735507    0.0    0.0  0.0  0.0    0.0     0.0  \n",
      "...       ...    ...  ...  ...    ...     ...  \n",
      "152315    0.0    0.0  0.0  0.0    0.0     0.0  \n",
      "963395    0.0    0.0  0.0  0.0    0.0     0.0  \n",
      "117952    0.0    0.0  0.0  0.0    0.0     0.0  \n",
      "1484405   0.0    0.0  0.0  0.0    0.0     0.0  \n",
      "305711    0.0    0.0  0.0  0.0    0.0     0.0  \n",
      "\n",
      "[1114005 rows x 510 columns]\n"
     ]
    }
   ],
   "source": [
    "features = ['HelpfulnessNumerator', 'HelpfulnessDenominator', 'Helpfulness', 'num_reviews', 'review_length', 'date_year', 'day_of_week', 'polarity', 'sentiment', 'user_average_review_score'] + tf_idf_cols\n",
    "print(features)\n",
    "\n",
    "# removed time\n",
    "\n",
    "X_train_select = X_train[features]\n",
    "X_test_select = X_test[features]\n",
    "X_submission_select = X_submission[features]\n",
    "\n",
    "\n",
    "print(X_train_select)"
   ]
  },
  {
   "cell_type": "markdown",
   "metadata": {},
   "source": [
    "# Model Creation"
   ]
  },
  {
   "cell_type": "code",
   "execution_count": null,
   "metadata": {},
   "outputs": [
    {
     "name": "stderr",
     "output_type": "stream",
     "text": [
      "[Parallel(n_jobs=1)]: Using backend SequentialBackend with 1 concurrent workers.\n"
     ]
    },
    {
     "name": "stdout",
     "output_type": "stream",
     "text": [
      "building tree 1 of 300\n"
     ]
    },
    {
     "name": "stderr",
     "output_type": "stream",
     "text": [
      "[Parallel(n_jobs=1)]: Done   1 out of   1 | elapsed:   12.5s remaining:    0.0s\n"
     ]
    },
    {
     "name": "stdout",
     "output_type": "stream",
     "text": [
      "building tree 2 of 300\n",
      "building tree 3 of 300\n",
      "building tree 4 of 300\n",
      "building tree 5 of 300\n",
      "building tree 6 of 300\n"
     ]
    }
   ],
   "source": [
    "# Learn the model\n",
    "model = RandomForestClassifier(n_estimators=300, random_state=42, verbose = 2).fit(X_train_select, Y_train)\n",
    "\n",
    "\n",
    "# model = KNeighborsClassifier(n_neighbors=3).fit(X_train_select, Y_train)\n",
    "\n",
    "# Predict the score using the model\n",
    "Y_test_predictions = model.predict(X_test_select)"
   ]
  },
  {
   "cell_type": "markdown",
   "metadata": {},
   "source": [
    "# Model Evaluation"
   ]
  },
  {
   "cell_type": "code",
   "execution_count": 43,
   "metadata": {},
   "outputs": [
    {
     "name": "stdout",
     "output_type": "stream",
     "text": [
      "Accuracy on testing set =  0.6294891957687916\n"
     ]
    },
    {
     "data": {
      "image/png": "[encoded data removed]",
      "text/plain": [
       "<Figure size 432x288 with 2 Axes>"
      ]
     },
     "metadata": {
      "needs_background": "light"
     },
     "output_type": "display_data"
    }
   ],
   "source": [
    "# Evaluate your model on the testing set\n",
    "\n",
    "print(\"Accuracy on testing set = \", accuracy_score(Y_test, Y_test_predictions))\n",
    "\n",
    "# Plot a confusion matrix\n",
    "cm = confusion_matrix(Y_test, Y_test_predictions, normalize='true')\n",
    "sns.heatmap(cm, annot=True)\n",
    "plt.title('Confusion matrix of the classifier')\n",
    "plt.xlabel('Predicted')\n",
    "plt.ylabel('True')\n",
    "plt.show()"
   ]
  },
  {
   "cell_type": "markdown",
   "metadata": {},
   "source": [
    "# Create submission file"
   ]
  },
  {
   "cell_type": "code",
   "execution_count": 44,
   "metadata": {},
   "outputs": [
    {
     "name": "stderr",
     "output_type": "stream",
     "text": [
      "[Parallel(n_jobs=1)]: Using backend SequentialBackend with 1 concurrent workers.\n",
      "[Parallel(n_jobs=1)]: Done   1 out of   1 | elapsed:    0.3s remaining:    0.0s\n",
      "[Parallel(n_jobs=1)]: Done 200 out of 200 | elapsed:   57.8s finished\n"
     ]
    }
   ],
   "source": [
    "# Create the submission file\n",
    "X_submission['Score'] = model.predict(X_submission_select)\n",
    "submission = X_submission[['Id', 'Score']]\n",
    "submission.to_csv(\"./data/submission.csv\", index=False)"
   ]
  }
 ],
 "metadata": {
  "kernelspec": {
   "display_name": "Python 3",
   "language": "python",
   "name": "python3"
  },
  "language_info": {
   "codemirror_mode": {
    "name": "ipython",
    "version": 3
   },
   "file_extension": ".py",
   "mimetype": "text/x-python",
   "name": "python",
   "nbconvert_exporter": "python",
   "pygments_lexer": "ipython3",
   "version": "3.8.5"
  }
 },
 "nbformat": 4,
 "nbformat_minor": 2
}
